{
 "cells": [
  {
   "cell_type": "code",
   "execution_count": 62,
   "metadata": {
    "colab": {
     "base_uri": "https://localhost:8080/"
    },
    "id": "0pLlOH709rHf",
    "outputId": "428fdc06-fc30-4045-e017-6f87c091d1e4"
   },
   "outputs": [
    {
     "data": {
      "text/plain": [
       "<torch._C.Generator at 0x10c6acb30>"
      ]
     },
     "execution_count": 62,
     "metadata": {},
     "output_type": "execute_result"
    }
   ],
   "source": [
    "import torch\n",
    "import torch.nn as nn\n",
    "from torch.nn import functional as F\n",
    "from torch.utils.data import DataLoader\n",
    "import matplotlib.pyplot as plt\n",
    "from pathlib import Path\n",
    "from miditok import REMI\n",
    "from miditok.pytorch_data import DatasetMIDI, DataCollator\n",
    "import numpy as np\n",
    "# model parameters depend on n_emdb,n_head,n_layer\n",
    "# hyperparameters\n",
    "# number of rows of block_size in tensor does not affect # of parameters\n",
    "# block_size is maximum length of chuncks of characters used in training. It is\n",
    "# also used when predicting (will never receive more than block_size inputs when\n",
    "# predicting the next char)\n",
    "batch_size = 32 # how many independent sequences will we process in parallel?\n",
    "block_size = 256 # what is the maximum context length for predictions?\n",
    "max_song_length = 256\n",
    "max_iters = 5000\n",
    "eval_interval = 500\n",
    "# 1e-04 5e-4 6e-4\n",
    "learning_rate = 2e-3\n",
    "# device = 'cuda' if torch.cuda.is_available() else 'mps'\n",
    "device = 'cuda' if torch.cuda.is_available() else 'cpu'\n",
    "eval_iters = 200\n",
    "n_embd = 128\n",
    "n_head = 4\n",
    "n_layer = 4\n",
    "dropout = 0.1\n",
    "# ------------\n",
    "\n",
    "torch.manual_seed(1337)\n",
    "\n"
   ]
  },
  {
   "cell_type": "code",
   "execution_count": 63,
   "metadata": {},
   "outputs": [
    {
     "name": "stderr",
     "output_type": "stream",
     "text": [
      "Pre-tokenizing: 100%|██████████| 19466/19466 [02:04<00:00, 156.66it/s]\n",
      "Pre-tokenizing: 100%|██████████| 3640/3640 [00:30<00:00, 120.77it/s]\n"
     ]
    }
   ],
   "source": [
    "tokenizer = REMI(params=Path(\"../finalAssignment_musicDataset/tokenizer_432.json\"))\n",
    "vocab_size = tokenizer.vocab_size\n",
    "midi_paths_train = list(Path(f\"../finalAssignment_musicDataset/Token_train_{max_song_length}_432\").glob(\"**/*.mid\")) \n",
    "midi_paths_valid = list(Path(f\"../finalAssignment_musicDataset/Token_valid_{max_song_length}_432\").glob(\"**/*.mid\")) \n",
    "kwargs_dataset = {\"max_seq_len\": max_song_length, \"tokenizer\": tokenizer, \"bos_token_id\": tokenizer[\"BOS_None\"], \"eos_token_id\": tokenizer[\"EOS_None\"]}\n",
    "dataset_train = DatasetMIDI(midi_paths_train, **kwargs_dataset, pre_tokenize=True)\n",
    "dataset_valid = DatasetMIDI(midi_paths_valid, **kwargs_dataset, pre_tokenize=True)\n",
    "collator = DataCollator(tokenizer[\"PAD_None\"], copy_inputs_as_labels=True)\n",
    "train_loader = DataLoader(dataset_train, batch_size=batch_size, shuffle=True, collate_fn=collator)\n",
    "val_loader = DataLoader(dataset_valid, batch_size=batch_size, shuffle=True, collate_fn=collator)\n"
   ]
  },
  {
   "cell_type": "code",
   "execution_count": 64,
   "metadata": {
    "id": "T_23l9reig-9"
   },
   "outputs": [
    {
     "name": "stdout",
     "output_type": "stream",
     "text": [
      "tensor([  3, 431, 140, 403,  54, 112, 127, 146,  50, 112, 127, 152,  52, 112,\n",
      "        127, 158,  47, 112, 124, 161,  45, 112, 130, 176,  54, 106, 125, 180,\n",
      "         54, 106, 125, 184,  54, 106, 125,   3, 431, 140,  52, 106, 127, 146,\n",
      "         50, 106, 127, 152,  54, 106, 127, 158,  52, 106, 124, 161,  54, 106,\n",
      "        124, 164,  52, 106, 129, 176,  54, 106, 125, 180,  54, 106, 125, 184,\n",
      "         54, 106, 125,   3, 431, 140,  52, 106, 127, 146,  50, 106, 127, 152,\n",
      "         54, 106, 127, 158,  52, 106, 124, 161,  50, 106, 124, 164,  54, 106,\n",
      "        127, 170,  52, 106, 124, 173,  50, 106, 124, 176,  54, 106, 125, 180,\n",
      "         54, 106, 125, 184,  54, 106, 125,   3, 431, 140,  52, 106, 127, 146,\n",
      "         50, 106, 127, 152,  54, 106, 127, 158,  57, 106, 124, 161,  54, 106,\n",
      "        124, 164,  52, 106, 132, 371, 176,  54, 106, 125, 180,  54, 106, 125,\n",
      "        184,  54, 106, 125,   3, 431, 140,  52, 106, 127, 146,  50, 106, 127,\n",
      "        152,  54, 106, 124, 155,  52, 106, 124, 158,  50, 106, 124, 161,  52,\n",
      "        106, 124, 164,  42, 106, 124, 167,  45, 106, 128, 176,  54, 106, 125,\n",
      "        180,  54, 106, 125, 184,  54, 106, 125,   3, 431, 140,  52, 106, 127,\n",
      "        146,  50, 106, 127, 152,  54, 106, 127, 158,  52, 106, 124, 161,  50,\n",
      "        106, 124, 164,  54, 106, 127, 170,  52, 106, 124, 173,  50, 106, 128,\n",
      "        182,  47, 106, 127,   0,   0,   0,   0,   0,   0,   0,   0,   0,   0,\n",
      "          0,   0,   0], device='mps:0')\n",
      "tensor([431, 140, 403,  54, 112, 127, 146,  50, 112, 127, 152,  52, 112, 127,\n",
      "        158,  47, 112, 124, 161,  45, 112, 130, 176,  54, 106, 125, 180,  54,\n",
      "        106, 125, 184,  54, 106, 125,   3, 431, 140,  52, 106, 127, 146,  50,\n",
      "        106, 127, 152,  54, 106, 127, 158,  52, 106, 124, 161,  54, 106, 124,\n",
      "        164,  52, 106, 129, 176,  54, 106, 125, 180,  54, 106, 125, 184,  54,\n",
      "        106, 125,   3, 431, 140,  52, 106, 127, 146,  50, 106, 127, 152,  54,\n",
      "        106, 127, 158,  52, 106, 124, 161,  50, 106, 124, 164,  54, 106, 127,\n",
      "        170,  52, 106, 124, 173,  50, 106, 124, 176,  54, 106, 125, 180,  54,\n",
      "        106, 125, 184,  54, 106, 125,   3, 431, 140,  52, 106, 127, 146,  50,\n",
      "        106, 127, 152,  54, 106, 127, 158,  57, 106, 124, 161,  54, 106, 124,\n",
      "        164,  52, 106, 132, 371, 176,  54, 106, 125, 180,  54, 106, 125, 184,\n",
      "         54, 106, 125,   3, 431, 140,  52, 106, 127, 146,  50, 106, 127, 152,\n",
      "         54, 106, 124, 155,  52, 106, 124, 158,  50, 106, 124, 161,  52, 106,\n",
      "        124, 164,  42, 106, 124, 167,  45, 106, 128, 176,  54, 106, 125, 180,\n",
      "         54, 106, 125, 184,  54, 106, 125,   3, 431, 140,  52, 106, 127, 146,\n",
      "         50, 106, 127, 152,  54, 106, 127, 158,  52, 106, 124, 161,  50, 106,\n",
      "        124, 164,  54, 106, 127, 170,  52, 106, 124, 173,  50, 106, 128, 182,\n",
      "         47, 106, 127,   0,   0,   0,   0,   0,   0,   0,   0,   0,   0,   0,\n",
      "          0,   0,   0], device='mps:0')\n",
      "255\n",
      "255\n",
      "32\n",
      "32\n"
     ]
    }
   ],
   "source": [
    "\n",
    "\n",
    "# data loading\n",
    "def accuracy(prediction, target):\n",
    "    B, T = prediction.shape\n",
    "    targets = target.view(B)\n",
    "    prediction = F.softmax(prediction,dim=-1)\\\n",
    "                .argmax(dim=1)\n",
    "    scores = (prediction == targets)\n",
    "    return scores.sum().item() / float(scores.numel())\n",
    "\n",
    "\n",
    "\n",
    "train_iter = iter(train_loader)\n",
    "val_iter = iter(val_loader)\n",
    "def get_batch(split):\n",
    "    global train_iter, val_iter\n",
    "    \n",
    "    data_iter = train_iter if split == 'train' else val_iter\n",
    "    try:\n",
    "      batch = next(data_iter)\n",
    "    except StopIteration:\n",
    "      if split == 'train':\n",
    "        train_iter = iter(train_loader)\n",
    "        batch = next(train_iter)\n",
    "      else:\n",
    "        val_iter = iter(val_loader)\n",
    "        batch = next(val_iter)\n",
    "    x = batch['input_ids']\n",
    "    y = x[:, 1:].contiguous()\n",
    "    x = x[:, :-1].contiguous()  \n",
    "    x, y = x.to(device), y.to(device)\n",
    "    return x, y\n",
    "\n",
    "@torch.no_grad()\n",
    "def estimate_loss():\n",
    "    out = {'train': {}, 'val': {}}\n",
    "    model.eval()\n",
    "    for split in ['train', 'val']:\n",
    "        losses = torch.zeros(eval_iters)\n",
    "        accuracies = torch.zeros(eval_iters)\n",
    "        for k in range(eval_iters):\n",
    "            X, Y = get_batch(split)\n",
    "            logits, loss = model(X, Y)\n",
    "            losses[k] = loss.item()\n",
    "            accuracies[k] = accuracy(logits, Y)\n",
    "        out[split]['loss'] = losses.mean()\n",
    "        out[split]['acc'] = accuracies.mean()\n",
    "    model.train()\n",
    "    return out\n",
    "\n",
    "\n"
   ]
  },
  {
   "cell_type": "code",
   "execution_count": 65,
   "metadata": {
    "id": "wErtS4BIik05"
   },
   "outputs": [],
   "source": [
    "class Head(nn.Module):\n",
    "    \"\"\" one head of self-attention \"\"\"\n",
    "\n",
    "    def __init__(self, head_size):\n",
    "        super().__init__()\n",
    "        self.key = nn.Linear(n_embd, head_size, bias=False)\n",
    "        self.query = nn.Linear(n_embd, head_size, bias=False)\n",
    "        self.value = nn.Linear(n_embd, head_size, bias=False)\n",
    "        self.register_buffer('tril', torch.tril(torch.ones(block_size, block_size)))\n",
    "\n",
    "        self.dropout = nn.Dropout(dropout)\n",
    "\n",
    "    def forward(self, x):\n",
    "        # input of size (batch, time-step, channels)\n",
    "        # output of size (batch, time-step, head size)\n",
    "        B,T,C = x.shape\n",
    "        k = self.key(x)   # (B,T,hs)\n",
    "        q = self.query(x) # (B,T,hs)\n",
    "        # compute attention scores (\"affinities\")\n",
    "        wei = q @ k.transpose(-2,-1) * k.shape[-1]**-0.5 # (B, T, hs) @ (B, hs, T) -> (B, T, T)\n",
    "        wei = wei.masked_fill(self.tril[:T, :T] == 0, float('-inf')) # (B, T, T)\n",
    "        wei = F.softmax(wei, dim=-1) # (B, T, T)\n",
    "        wei = self.dropout(wei)\n",
    "        # perform the weighted aggregation of the values\n",
    "        v = self.value(x) # (B,T,hs)\n",
    "        out = wei @ v # (B, T, T) @ (B, T, hs) -> (B, T, hs)\n",
    "        return out"
   ]
  },
  {
   "cell_type": "code",
   "execution_count": 66,
   "metadata": {
    "id": "DAU9w4Wqirwq"
   },
   "outputs": [],
   "source": [
    "class MultiHeadAttention(nn.Module):\n",
    "    \"\"\" multiple heads of self-attention in parallel \"\"\"\n",
    "\n",
    "    def __init__(self, num_heads, head_size):\n",
    "        super().__init__()\n",
    "        self.heads = nn.ModuleList([Head(head_size) for _ in range(num_heads)])\n",
    "        self.proj = nn.Linear(head_size * num_heads, n_embd)\n",
    "        self.dropout = nn.Dropout(dropout)\n",
    "\n",
    "    def forward(self, x):\n",
    "        out = torch.cat([h(x) for h in self.heads], dim=-1)\n",
    "        out = self.dropout(self.proj(out))\n",
    "        return out\n"
   ]
  },
  {
   "cell_type": "code",
   "execution_count": 67,
   "metadata": {},
   "outputs": [],
   "source": [
    "import math\n",
    "\n",
    "class RelativeGlobalAttention(nn.Module):\n",
    "    def __init__(self, head_dim, n_head, dropout, device, max_len=max_song_length):\n",
    "        super().__init__()\n",
    "        \n",
    "        d_head, _ = divmod(n_embd, n_head)\n",
    "        self.hid_dim = n_embd\n",
    "        self.n_heads = n_head\n",
    "        self.head_dim = head_dim \n",
    "        self.max_relative_position = max_len\n",
    "\n",
    "        self.key = nn.Linear(self.hid_dim, self.hid_dim)\n",
    "        self.query = nn.Linear(self.hid_dim, self.hid_dim)\n",
    "        self.value = nn.Linear(self.hid_dim, self.hid_dim)\n",
    "        \n",
    "        self.dropout = nn.Dropout(dropout)\n",
    "        \n",
    "        self.Er = nn.Parameter(torch.randn(self.max_relative_position, d_head))\n",
    "        self.register_buffer(\n",
    "            \"mask\", \n",
    "            torch.tril(torch.ones(self.max_relative_position, self.max_relative_position))\n",
    "            .unsqueeze(0).unsqueeze(0)\n",
    "        )\n",
    "        \n",
    "    def forward(self, x, mask = None):\n",
    "        batch_size, seq_len, _ = x.shape\n",
    "        \n",
    "        if seq_len > self.max_relative_position:\n",
    "            print(f\"sequence length {seq_len} exceeds model capacity {self.max_relative_position}\")\n",
    "        k_t = self.key(x).reshape(batch_size, seq_len, self.n_heads, -1).permute(0, 2, 3, 1)\n",
    "        # k_t.shape = (batch_size, num_heads, d_head, seq_len)\n",
    "        v = self.value(x).reshape(batch_size, seq_len, self.n_heads, -1).transpose(1, 2)\n",
    "        q = self.query(x).reshape(batch_size, seq_len, self.n_heads, -1).transpose(1, 2)\n",
    "        # shape = (batch_size, num_heads, seq_len, d_head)\n",
    "        \n",
    "        start = self.max_relative_position - seq_len\n",
    "        Er_t = self.Er[start:, :].transpose(0, 1)\n",
    "        # Er_t.shape = (d_head, seq_len)\n",
    "        QEr = torch.matmul(q, Er_t)\n",
    "        # QEr.shape = (batch_size, num_heads, seq_len, seq_len)\n",
    "        Srel = self.skew(QEr)\n",
    "        # Srel.shape = (batch_size, num_heads, seq_len, seq_len)\n",
    "        \n",
    "        QK_t = torch.matmul(q, k_t)\n",
    "        # QK_t.shape = (batch_size, num_heads, seq_len, seq_len)\n",
    "        attn = (QK_t + Srel) / math.sqrt(q.size(-1))\n",
    "        mask = self.mask[:, :, :seq_len, :seq_len]\n",
    "        # mask.shape = (1, 1, seq_len, seq_len)\n",
    "        attn = attn.masked_fill(mask == 0, float(\"-inf\"))\n",
    "        # attn.shape = (batch_size, num_heads, seq_len, seq_len)\n",
    "        attn = F.softmax(attn, dim=-1)\n",
    "        out = torch.matmul(attn, v)\n",
    "        # out.shape = (batch_size, num_heads, seq_len, d_head)\n",
    "        out = out.transpose(1, 2)\n",
    "        # out.shape == (batch_size, seq_len, num_heads, d_head)\n",
    "        out = out.reshape(batch_size, seq_len, -1)\n",
    "        # out.shape == (batch_size, seq_len, d_model)\n",
    "        return self.dropout(out)\n",
    "        \n",
    "    \n",
    "    def skew(self, QEr):\n",
    "        # QEr.shape = (batch_size, num_heads, seq_len, seq_len)\n",
    "        padded = F.pad(QEr, (1, 0))\n",
    "        # padded.shape = (batch_size, num_heads, seq_len, 1 + seq_len)\n",
    "        batch_size, num_heads, num_rows, num_cols = padded.shape\n",
    "        reshaped = padded.reshape(batch_size, num_heads, num_cols, num_rows)\n",
    "        # reshaped.size = (batch_size, num_heads, 1 + seq_len, seq_len)\n",
    "        Srel = reshaped[:, :, 1:, :]\n",
    "        # Srel.shape = (batch_size, num_heads, seq_len, seq_len)\n",
    "        return Srel"
   ]
  },
  {
   "cell_type": "code",
   "execution_count": 68,
   "metadata": {
    "id": "NGzrzw9yit8-"
   },
   "outputs": [],
   "source": [
    "class FeedFoward(nn.Module):\n",
    "    \"\"\" a simple linear layer followed by a non-linearity \"\"\"\n",
    "\n",
    "    def __init__(self, n_embd):\n",
    "        super().__init__()\n",
    "        self.c_fc    = nn.Linear(n_embd, 4 * n_embd)\n",
    "        self.gelu    = nn.GELU()\n",
    "        self.c_proj  = nn.Linear(4 * n_embd, n_embd)\n",
    "        self.dropout = nn.Dropout(dropout)\n",
    "\n",
    "    def forward(self, x):\n",
    "        x = self.c_fc(x)\n",
    "        x = self.gelu(x)\n",
    "        x = self.c_proj(x)\n",
    "        x = self.dropout(x)\n",
    "        return x\n"
   ]
  },
  {
   "cell_type": "code",
   "execution_count": 69,
   "metadata": {
    "id": "5EJV6plniwWq"
   },
   "outputs": [],
   "source": [
    "class Block(nn.Module):\n",
    "    \"\"\" Transformer block: communication followed by computation \"\"\"\n",
    "\n",
    "    def __init__(self, n_embd, n_head):\n",
    "        # n_embd: embedding dimension, n_head: the number of heads we'd like\n",
    "        super().__init__()\n",
    "        head_size = n_embd // n_head\n",
    "        # self.sa = MultiHeadAttention(n_head, head_size)\n",
    "        self.sa = RelativeGlobalAttention(head_size, n_head, dropout, device)\n",
    "        self.ffwd = FeedFoward(n_embd)\n",
    "        self.ln1 = nn.LayerNorm(n_embd)\n",
    "        self.ln2 = nn.LayerNorm(n_embd)\n",
    "\n",
    "    def forward(self, x):\n",
    "        x = x + self.sa(self.ln1(x))\n",
    "        x = x + self.ffwd(self.ln2(x))\n",
    "        return x"
   ]
  },
  {
   "cell_type": "code",
   "execution_count": 70,
   "metadata": {
    "id": "4b4Vy82Ji01c"
   },
   "outputs": [],
   "source": [
    "class GPTLanguageModel(nn.Module):\n",
    "\n",
    "    def __init__(self):\n",
    "        super().__init__()\n",
    "        # each token directly reads off the logits for the next token from a lookup table\n",
    "        self.token_embedding_table = nn.Embedding(vocab_size, n_embd)\n",
    "        self.position_embedding_table = nn.Embedding(block_size, n_embd)\n",
    "        self.blocks = nn.Sequential(*[Block(n_embd, n_head=n_head) for _ in range(n_layer)])\n",
    "        self.drop = nn.Dropout(dropout)\n",
    "        self.ln_f = nn.LayerNorm(n_embd) # final layer norm\n",
    "        self.lm_head = nn.Linear(n_embd, vocab_size)\n",
    "\n",
    "        # better init, not covered in the original GPT video, but important, will cover in followup video\n",
    "        self.apply(self._init_weights)\n",
    "\n",
    "    def _init_weights(self, module):\n",
    "        if isinstance(module, nn.Linear):\n",
    "            torch.nn.init.normal_(module.weight, mean=0.0, std=0.02)\n",
    "            if module.bias is not None:\n",
    "                torch.nn.init.zeros_(module.bias)\n",
    "        elif isinstance(module, nn.Embedding):\n",
    "            torch.nn.init.normal_(module.weight, mean=0.0, std=0.02)\n",
    "\n",
    "    def forward(self, idx, targets=None):\n",
    "        B, T = idx.shape\n",
    "\n",
    "        # idx and targets are both (B,T) tensor of integers\n",
    "        tok_emb = self.token_embedding_table(idx) # (B,T,C)\n",
    "        pos_emb = self.position_embedding_table(torch.arange(T, device=device)) # (T,C)\n",
    "        x = self.drop(tok_emb + pos_emb) # (B,T,C)\n",
    "        x = self.blocks(x) # (B,T,C)\n",
    "        x = self.ln_f(x) # (B,T,C)\n",
    "        logits = self.lm_head(x) # (B,T,vocab_size)\n",
    "\n",
    "        if targets is None:\n",
    "            loss = None\n",
    "        else:\n",
    "            B, T, C = logits.shape\n",
    "            logits = logits.view(B*T, C)\n",
    "            targets = targets.view(B*T)\n",
    "            loss = F.cross_entropy(logits, targets)\n",
    "\n",
    "        return logits, loss\n",
    "\n",
    "    def generate(self, idx, max_new_tokens):\n",
    "        # idx is (B, T) array of indices in the current context\n",
    "        for _ in range(max_new_tokens):\n",
    "            # crop idx to the last block_size tokens\n",
    "            idx_cond = idx[:, -block_size:]\n",
    "            # get the predictions\n",
    "            logits, loss = self(idx_cond)\n",
    "            # focus only on the last time step\n",
    "            logits = logits[:, -1, :] # becomes (B, C)\n",
    "            # apply softmax to get probabilities\n",
    "            probs = F.softmax(logits, dim=-1) # (B, C)\n",
    "            # sample from the distribution\n",
    "            idx_next = torch.multinomial(probs, num_samples=1) # (B, 1)\n",
    "            # append sampled index to the running sequence\n",
    "            idx = torch.cat((idx, idx_next), dim=1) # (B, T+1)\n",
    "        return idx\n"
   ]
  },
  {
   "cell_type": "code",
   "execution_count": 71,
   "metadata": {},
   "outputs": [],
   "source": [
    "'''A wrapper class for scheduled optimizer '''\n",
    "\n",
    "class ScheduledOptim():\n",
    "    '''A simple wrapper class for learning rate scheduling'''\n",
    "\n",
    "    def __init__(self, optimizer, lr_mul, d_model, n_warmup_steps):\n",
    "        self._optimizer = optimizer\n",
    "        self.lr_mul = lr_mul\n",
    "        self.d_model = d_model\n",
    "        self.n_warmup_steps = n_warmup_steps\n",
    "        self.n_steps = 0\n",
    "\n",
    "\n",
    "    def step_and_update_lr(self):\n",
    "        \"Step with the inner optimizer\"\n",
    "        self._update_learning_rate()\n",
    "        self._optimizer.step()\n",
    "\n",
    "\n",
    "    def zero_grad(self):\n",
    "        \"Zero out the gradients with the inner optimizer\"\n",
    "        self._optimizer.zero_grad()\n",
    "\n",
    "\n",
    "    def _get_lr_scale(self):\n",
    "        d_model = self.d_model\n",
    "        n_steps, n_warmup_steps = self.n_steps, self.n_warmup_steps\n",
    "        return (d_model ** -0.5) * min(n_steps ** (-0.5), n_steps * n_warmup_steps ** (-1.5))\n",
    "\n",
    "\n",
    "    def _update_learning_rate(self):\n",
    "        ''' Learning rate scheduling per step '''\n",
    "\n",
    "        self.n_steps += 1\n",
    "        lr = self.lr_mul * self._get_lr_scale()\n",
    "\n",
    "        for param_group in self._optimizer.param_groups:\n",
    "            param_group['lr'] = lr\n"
   ]
  },
  {
   "cell_type": "code",
   "execution_count": 72,
   "metadata": {
    "colab": {
     "base_uri": "https://localhost:8080/"
    },
    "id": "_Z8N2gQZi1Ur",
    "outputId": "5b2738e1-c570-4d5f-be70-a5a778d74024"
   },
   "outputs": [
    {
     "name": "stdout",
     "output_type": "stream",
     "text": [
      "0.903856 M parameters\n",
      "step 0: train loss 6.0672, train accuracy 0.0019, val loss 6.0671, val accuracy 0.0023\n",
      "step 500: train loss 0.9488, train accuracy 0.7053, val loss 0.9187, val accuracy 0.7165\n",
      "step 1000: train loss 0.8280, train accuracy 0.7341, val loss 0.8058, val accuracy 0.7431\n",
      "step 1500: train loss 0.7883, train accuracy 0.7433, val loss 0.7638, val accuracy 0.7532\n",
      "step 2000: train loss 0.7649, train accuracy 0.7490, val loss 0.7426, val accuracy 0.7572\n",
      "step 2500: train loss 0.7465, train accuracy 0.7544, val loss 0.7254, val accuracy 0.7619\n",
      "step 3000: train loss 0.7323, train accuracy 0.7583, val loss 0.7134, val accuracy 0.7659\n",
      "step 3500: train loss 0.7056, train accuracy 0.7667, val loss 0.6962, val accuracy 0.7707\n",
      "step 4000: train loss 0.6969, train accuracy 0.7706, val loss 0.6881, val accuracy 0.7735\n",
      "step 4500: train loss 0.6842, train accuracy 0.7738, val loss 0.6752, val accuracy 0.7788\n",
      "step 4999: train loss 0.6776, train accuracy 0.7764, val loss 0.6633, val accuracy 0.7820\n"
     ]
    },
    {
     "data": {
      "image/png": "[encoded data removed]",
      "text/plain": [
       "<Figure size 1000x500 with 1 Axes>"
      ]
     },
     "metadata": {},
     "output_type": "display_data"
    }
   ],
   "source": [
    "model = GPTLanguageModel()\n",
    "# model.load_state_dict(torch.load(\"./model/music_20250104-162131.pth\", weights_only=True))\n",
    "# model.eval()\n",
    "m = model.to(device)\n",
    "\n",
    "# print the number of parameters in the model\n",
    "print(sum(p.numel() for p in m.parameters())/1e6, 'M parameters')\n",
    "\n",
    "# # create a PyTorch optimizer\n",
    "optimizer = torch.optim.AdamW(model.parameters(), lr=learning_rate, betas=(0.9,0.98),eps=1e-9)\n",
    "scheduled_optimizer = ScheduledOptim(optimizer, 0.1, n_embd, 200)\n",
    "train_loss = []\n",
    "val_loss = []\n",
    "learning_rates = []\n",
    "\n",
    "for i in range(max_iters):\n",
    "    # every once in a while evaluate the loss on train and val sets\n",
    "    if i % eval_interval == 0 or i == max_iters - 1:\n",
    "        losses = estimate_loss()\n",
    "        train_loss.append(losses['train']['loss'])\n",
    "        val_loss.append(losses['val']['loss'])\n",
    "        print(f\"step {i}: train loss {losses['train']['loss']:.4f}, \"\n",
    "              f\"train accuracy {losses['train']['acc']:.4f}, \"\n",
    "              f\"val loss {losses['val']['loss']:.4f}, \"\n",
    "              f\"val accuracy {losses['val']['acc']:.4f}\")\n",
    "\n",
    "    # sample a batch of data\n",
    "    xb, yb = get_batch('train')\n",
    "\n",
    "    # evaluate the loss\n",
    "    logits, loss = model(xb, yb)\n",
    "    scheduled_optimizer.zero_grad()\n",
    "    loss.backward()\n",
    "    scheduled_optimizer.step_and_update_lr()\n",
    "\n",
    "    # record the learning rate\n",
    "    learning_rates.append(scheduled_optimizer._optimizer.param_groups[0]['lr'])\n",
    "\n",
    "# generate from the model\n",
    "\n",
    "# Generate x-axis values\n",
    "steps = list(range(0, max_iters + 1, eval_interval))\n",
    "\n",
    "# Plot the learning rates\n",
    "plt.figure(figsize=(10, 5))\n",
    "plt.plot(learning_rates)\n",
    "plt.xlabel('Iteration')\n",
    "plt.ylabel('Learning Rate')\n",
    "plt.title('Learning Rate Schedule')\n",
    "plt.show()\n",
    "\n"
   ]
  },
  {
   "cell_type": "code",
   "execution_count": 90,
   "metadata": {},
   "outputs": [
    {
     "name": "stdout",
     "output_type": "stream",
     "text": [
      "Score(ttype=Tick, tpq=24, begin=0, end=1796, tracks=3, notes=152, time_sig=1, key_sig=0, markers=0)\n"
     ]
    }
   ],
   "source": [
    "from copy import deepcopy\n",
    "\n",
    "x, y = get_batch('val')\n",
    "count = 1           \n",
    "continuation = m.generate(x, 512)[0]\n",
    "generated = continuation[len(x[0]):]\n",
    "midi = tokenizer.decode([deepcopy(generated.tolist())])\n",
    "tokens = [generated, x[0], continuation]  # list compr. as seqs of dif. lengths\n",
    "tokens = [seq.tolist() for seq in tokens]\n",
    "for tok_seq in tokens[1:]:\n",
    "    _midi = tokenizer.decode([deepcopy(tok_seq)])\n",
    "    midi.tracks.append(_midi.tracks[0])\n",
    "midi.tracks[0].name = f'Continuation of original sample ({len(generated)} tokens)'\n",
    "midi.tracks[1].name = f'Original sample ({len(x[0])} tokens)'\n",
    "midi.dump_midi(Path(f'./midi_files/') / f'{count}.mid')\n",
    "tokenizer.save_tokens(tokens, Path(f'./midi_files/')  / f'{count}.json') \n",
    "print(midi)"
   ]
  },
  {
   "cell_type": "code",
   "execution_count": 92,
   "metadata": {},
   "outputs": [
    {
     "name": "stdout",
     "output_type": "stream",
     "text": [
      "Score(ttype=Tick, tpq=24, begin=0, end=356, tracks=1, notes=18, time_sig=1, key_sig=0, markers=0)\n"
     ]
    }
   ],
   "source": [
    "count = 2\n",
    "midi = tokenizer.decode([deepcopy(generated.tolist())])\n",
    "midi.dump_midi(Path(f'./midi_files/') / f'{count}.mid')\n",
    "tokenizer.save_tokens(tokens, Path(f'./midi_files/')  / f'{count}.json') \n",
    "print(midi)"
   ]
  },
  {
   "cell_type": "code",
   "execution_count": 94,
   "metadata": {},
   "outputs": [
    {
     "data": {
      "text/plain": [
       "'./2.wav'"
      ]
     },
     "execution_count": 94,
     "metadata": {},
     "output_type": "execute_result"
    }
   ],
   "source": [
    "\n",
    "\n",
    "def visualize_midi(midi_path, sampling_rate=16000, seconds=15, out_dir=None):\n",
    "    import pretty_midi\n",
    "    from scipy.io.wavfile import write as write_wav\n",
    "    from IPython.display import Audio\n",
    "    import os\n",
    "    from os import path\n",
    "\n",
    "    # Create the audio waveform\n",
    "    pretty_midi_file = pretty_midi.PrettyMIDI(midi_path)\n",
    "    waveform = pretty_midi_file.fluidsynth(fs=sampling_rate)[: seconds * sampling_rate]\n",
    "\n",
    "    # Display the audio if no path is provided\n",
    "    if out_dir is None:\n",
    "        # IPython display\n",
    "        return Audio(waveform, rate=sampling_rate)\n",
    "\n",
    "    # Save the audio to a file\n",
    "    os.makedirs(out_dir, exist_ok=True)\n",
    "    audio_path = path.join(out_dir, path.basename(midi_path).split(\".\")[0] + \".wav\")\n",
    "    write_wav(audio_path, sampling_rate, (waveform * 32767).astype(np.int16))\n",
    "    return audio_path\n",
    "\n",
    "visualize_midi(\"./midi_files/1.mid\", out_dir=\"./\")\n",
    "visualize_midi(\"./midi_files/2.mid\", out_dir=\"./\")"
   ]
  },
  {
   "cell_type": "code",
   "execution_count": 95,
   "metadata": {},
   "outputs": [
    {
     "data": {
      "text/plain": [
       "'./gen1.wav'"
      ]
     },
     "execution_count": 95,
     "metadata": {},
     "output_type": "execute_result"
    }
   ],
   "source": [
    "visualize_midi(\"./midi_files/gen1.mid\", out_dir=\"./\")"
   ]
  },
  {
   "cell_type": "code",
   "execution_count": 82,
   "metadata": {
    "id": "k0CwJnCQErNj"
   },
   "outputs": [
    {
     "name": "stdout",
     "output_type": "stream",
     "text": [
      "Dummy model: loss 6.5906, accuracy 0.0040, \n",
      "Score(ttype=Tick, tpq=24, begin=0, end=1405, tracks=1, notes=1, time_sig=5, key_sig=0, markers=0)\n"
     ]
    },
    {
     "data": {
      "text/plain": [
       "'./dummy.wav'"
      ]
     },
     "execution_count": 82,
     "metadata": {},
     "output_type": "execute_result"
    }
   ],
   "source": [
    "class BaselineLanguageModel(nn.Module):\n",
    "\n",
    "    def __init__(self, vocab_size):\n",
    "        super().__init__()\n",
    "        # each token directly reads off the logits for the next token from a lookup table\n",
    "        self.token_embedding_table = nn.Embedding(vocab_size, vocab_size)\n",
    "\n",
    "    def forward(self, idx, targets=None):\n",
    "\n",
    "        # idx and targets are both (B,T) tensor of integers\n",
    "        logits = self.token_embedding_table(idx) # (B,T,C)\n",
    "\n",
    "        if targets is None:\n",
    "            loss = None\n",
    "        else:\n",
    "            B, T, C = logits.shape\n",
    "            logits = logits.view(B*T, C)\n",
    "            targets = targets.view(B*T)\n",
    "            loss = F.cross_entropy(logits, targets)\n",
    "\n",
    "        return logits, loss\n",
    "\n",
    "    def generate(self, idx, max_new_tokens):\n",
    "        # idx is (B, T) array of indices in the current context\n",
    "        for _ in range(max_new_tokens):\n",
    "            # get the predictions\n",
    "            logits, loss = self(idx)\n",
    "            # focus only on the last time step\n",
    "            logits = logits[:, -1, :] # becomes (B, C)\n",
    "            # apply softmax to get probabilities\n",
    "            probs = F.softmax(logits, dim=-1) # (B, C)\n",
    "            # sample from the distribution\n",
    "            idx_next = torch.multinomial(probs, num_samples=1) # (B, 1)\n",
    "            # append sampled index to the running sequence\n",
    "            idx = torch.cat((idx, idx_next), dim=1) # (B, T+1)\n",
    "        return idx\n",
    "\n",
    "dummy = BaselineLanguageModel(tokenizer.vocab_size)\n",
    "d = dummy.to(device)\n",
    "xb, xy = get_batch(\"train\")\n",
    "logits, loss = dummy(xb, xy)\n",
    "acc = accuracy(logits, xy)\n",
    "print(f\"Dummy model: loss {loss:.4f}, \"\n",
    "              f\"accuracy {acc:.4f}, \")\n",
    "continuation = dummy.generate(x, 256)[0]\n",
    "generated = continuation[len(x[0]):]\n",
    "midi = tokenizer.decode([deepcopy(generated.tolist())])\n",
    "midi.dump_midi(Path(f'./midi_files/') / f'dummy.mid')\n",
    "tokenizer.save_tokens(tokens, Path(f'./midi_files/')  / f'dummy.json') \n",
    "print(midi)\n",
    "visualize_midi(\"./midi_files/dummy.mid\", out_dir=\"./\")\n"
   ]
  },
  {
   "cell_type": "code",
   "execution_count": 80,
   "metadata": {},
   "outputs": [],
   "source": [
    "import time\n",
    "\n",
    "timestamp = time.strftime(\"%Y%m%d-%H%M%S\")\n",
    "model_name = f\"./model/music_{timestamp}.pth\"\n",
    "torch.save(model.state_dict(), model_name)"
   ]
  }
 ],
 "metadata": {
  "colab": {
   "provenance": []
  },
  "kernelspec": {
   "display_name": ".venv",
   "language": "python",
   "name": "python3"
  },
  "language_info": {
   "codemirror_mode": {
    "name": "ipython",
    "version": 3
   },
   "file_extension": ".py",
   "mimetype": "text/x-python",
   "name": "python",
   "nbconvert_exporter": "python",
   "pygments_lexer": "ipython3",
   "version": "3.12.8"
  }
 },
 "nbformat": 4,
 "nbformat_minor": 0
}
