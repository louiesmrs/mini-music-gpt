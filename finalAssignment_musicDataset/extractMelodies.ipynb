{
 "cells": [
  {
   "cell_type": "code",
   "execution_count": 46,
   "metadata": {},
   "outputs": [
    {
     "name": "stdout",
     "output_type": "stream",
     "text": [
      "All files ending in '_full.mid' have been copied to the 'musicDataset' directory.\n",
      "730\n"
     ]
    }
   ],
   "source": [
    "import os\n",
    "from os import path\n",
    "import numpy as np\n",
    "from pathlib import Path\n",
    "# Define the source directory and the target directory\n",
    "source_dir = './BiMMuDa/'  # Current directory\n",
    "target_dir = 'datasets/BiMMuDa/'\n",
    "\n",
    "# Create the target directory if it doesn't exist\n",
    "if not os.path.exists(target_dir):\n",
    "    os.makedirs(target_dir)\n",
    "\n",
    "# Walk through all subdirectories\n",
    "midi_files, file_paths = set(), list()\n",
    "for root, dirs, files in os.walk(source_dir):\n",
    "    for file in files:\n",
    "        if file.endswith('_full.mid'):\n",
    "            midi_files.add(Path(root) / file)\n",
    "\n",
    "for file in sorted(midi_files):\n",
    "    file_paths.append(new_path := Path(target_dir).resolve() / file.name)\n",
    "    os.makedirs(new_path.parent, exist_ok=True)\n",
    "    os.system(f'cp \"{file}\" \"{new_path}\"')\n",
    "\n",
    "print(\"All files ending in '_full.mid' have been copied to the 'musicDataset' directory.\")\n",
    "print(len(midi_files))\n",
    "paths = list(sorted(file_paths))\n",
    "\n",
    "if paths:\n",
    "    output_dir = path.dirname(paths[0])\n",
    "    indices = np.random.permutation(len(paths))\n",
    "    split = int(len(paths) * 0.1)\n",
    "    train_paths = [paths[i] for i in indices[split:]]\n",
    "    val_paths = [paths[i] for i in indices[:split]]\n",
    "else:\n",
    "    raise ValueError(\"No MIDI files found in the source directory.\")"
   ]
  },
  {
   "cell_type": "code",
   "execution_count": 47,
   "metadata": {},
   "outputs": [
    {
     "name": "stdout",
     "output_type": "stream",
     "text": [
      "[PosixPath('/Users/louie/College/MachineLearning/finalAssignment/finalAssignment_musicDataset/datasets/BiMMuDa/1950_01_full.mid'), PosixPath('/Users/louie/College/MachineLearning/finalAssignment/finalAssignment_musicDataset/datasets/BiMMuDa/1950_01_full.mid'), PosixPath('/Users/louie/College/MachineLearning/finalAssignment/finalAssignment_musicDataset/datasets/BiMMuDa/1950_02_full.mid'), PosixPath('/Users/louie/College/MachineLearning/finalAssignment/finalAssignment_musicDataset/datasets/BiMMuDa/1950_02_full.mid'), PosixPath('/Users/louie/College/MachineLearning/finalAssignment/finalAssignment_musicDataset/datasets/BiMMuDa/1950_03_full.mid'), PosixPath('/Users/louie/College/MachineLearning/finalAssignment/finalAssignment_musicDataset/datasets/BiMMuDa/1950_03_full.mid'), PosixPath('/Users/louie/College/MachineLearning/finalAssignment/finalAssignment_musicDataset/datasets/BiMMuDa/1950_04_full.mid'), PosixPath('/Users/louie/College/MachineLearning/finalAssignment/finalAssignment_musicDataset/datasets/BiMMuDa/1950_04_full.mid'), PosixPath('/Users/louie/College/MachineLearning/finalAssignment/finalAssignment_musicDataset/datasets/BiMMuDa/1950_05_full.mid'), PosixPath('/Users/louie/College/MachineLearning/finalAssignment/finalAssignment_musicDataset/datasets/BiMMuDa/1950_05_full.mid')]\n"
     ]
    }
   ],
   "source": [
    "print(paths[:10])                       "
   ]
  },
  {
   "cell_type": "code",
   "execution_count": 48,
   "metadata": {},
   "outputs": [
    {
     "name": "stdout",
     "output_type": "stream",
     "text": [
      "432\n"
     ]
    },
    {
     "name": "stderr",
     "output_type": "stream",
     "text": [
      "/var/folders/5p/hj6g32gj0_700q3tgctb49fh0000gn/T/ipykernel_74505/2522225921.py:32: UserWarning: miditok: The `save_params` method had been renamed `save`. It is now depreciated and will be removed in future updates.\n",
      "  tokenizer.save_params(f\"tokenizer_{vocab_size}.json\")\n"
     ]
    }
   ],
   "source": [
    "# Seed\n",
    "from miditok import REMI, TokenizerConfig\n",
    "\n",
    "\n",
    "# Our tokenizer's configuration\n",
    "BEAT_RES = {(0, 1): 12, (1, 2): 4, (2, 4): 2, (4, 8): 1}\n",
    "TOKENIZER_PARAMS = {\n",
    "    \"pitch_range\": (21, 109),\n",
    "    \"beat_res\": BEAT_RES,\n",
    "    \"num_velocities\": 24,\n",
    "    \"special_tokens\": [\"PAD\", \"BOS\", \"EOS\"],\n",
    "    \"use_chords\": True,\n",
    "    \"use_rests\": True,\n",
    "    \"use_tempos\": True,\n",
    "    \"use_time_signatures\": True,\n",
    "    \"use_programs\": False,  # no multitrack here\n",
    "    \"num_tempos\": 32,\n",
    "    \"tempo_range\": (40, 250),  # (min_tempo, max_tempo)\n",
    "}\n",
    "config = TokenizerConfig(**TOKENIZER_PARAMS)\n",
    "#vocab_size = 6000\n",
    "# Creates the tokenizer\n",
    "tokenizer = REMI(config)\n",
    "# tokenizer._load_from_json\n",
    "# Trains the tokenizer with Byte Pair Encoding (BPE) to build the vocabulary, here 30k token\n",
    "# tokenizer.train(\n",
    "#     vocab_size=vocab_size,\n",
    "#     files_paths=paths,\n",
    "# )\n",
    "vocab_size = tokenizer.vocab_size\n",
    "print(tokenizer.vocab_size)\n",
    "tokenizer.save_params(f\"tokenizer_{vocab_size}.json\")"
   ]
  },
  {
   "cell_type": "code",
   "execution_count": 49,
   "metadata": {},
   "outputs": [
    {
     "name": "stderr",
     "output_type": "stream",
     "text": [
      "Splitting music files (Token_train_256_432): 100%|██████████| 657/657 [00:06<00:00, 96.52it/s] \n",
      "Performing data augmentation: 100%|██████████| 2781/2781 [00:24<00:00, 113.67it/s]\n",
      "Splitting music files (Token_valid_256_432): 100%|██████████| 73/73 [00:01<00:00, 68.76it/s] \n",
      "Performing data augmentation: 100%|██████████| 520/520 [00:04<00:00, 116.98it/s]\n"
     ]
    }
   ],
   "source": [
    "from miditok.utils import split_files_for_training\n",
    "from miditok.data_augmentation import augment_dataset\n",
    "max_len = 256\n",
    "# Chunk MIDIs and perform data augmentation on each subset independently\n",
    "for files_paths, subset_name in (\n",
    "    (train_paths, \"train\"), (val_paths, \"valid\")\n",
    "):\n",
    "\n",
    "    # Split the MIDIs into chunks of sizes approximately about vocab_size tokens\n",
    "    subset_chunks_dir = Path(f\"Token_{subset_name}_{max_len}_{vocab_size}\")\n",
    "    split_files_for_training(\n",
    "        files_paths=files_paths,\n",
    "        tokenizer=tokenizer,\n",
    "        save_dir=subset_chunks_dir,\n",
    "        max_seq_len=max_len,\n",
    "        num_overlap_bars=2,\n",
    "    )\n",
    "\n",
    "    # Perform data augmentation\n",
    "    augment_dataset(\n",
    "        subset_chunks_dir,\n",
    "        pitch_offsets=[-12, 12],\n",
    "        velocity_offsets=[-4, 4],\n",
    "        duration_offsets=[-0.5, 0.5],\n",
    "    )"
   ]
  }
 ],
 "metadata": {
  "kernelspec": {
   "display_name": ".venv",
   "language": "python",
   "name": "python3"
  },
  "language_info": {
   "codemirror_mode": {
    "name": "ipython",
    "version": 3
   },
   "file_extension": ".py",
   "mimetype": "text/x-python",
   "name": "python",
   "nbconvert_exporter": "python",
   "pygments_lexer": "ipython3",
   "version": "3.12.8"
  }
 },
 "nbformat": 4,
 "nbformat_minor": 2
}
